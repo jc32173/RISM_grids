{
 "cells": [
  {
   "cell_type": "markdown",
   "metadata": {},
   "source": [
    "December 2020"
   ]
  },
  {
   "cell_type": "markdown",
   "metadata": {},
   "source": [
    "Note: Save notebook as HTML if intereactive plots not working:<br>\n",
    "`jupyter-nbconvert RISM_3D_plots.ipynb --to html --output RISM_3D_plots.html`"
   ]
  },
  {
   "cell_type": "markdown",
   "metadata": {},
   "source": [
    "# 3D and interactive RISM plots"
   ]
  },
  {
   "cell_type": "markdown",
   "metadata": {},
   "source": [
    "Some examples of plotting RISM surfaces in 3D plots alongside molecular structures."
   ]
  },
  {
   "cell_type": "code",
   "execution_count": null,
   "metadata": {},
   "outputs": [],
   "source": [
    "import RISM_grids as rg\n",
    "print('RISM_grids version: {}'.format(rg.__version__))\n",
    "\n",
    "from IPython.display import Image\n",
    "\n",
    "from rdkit.Chem.Draw import IPythonConsole\n",
    "from rdkit import Chem\n",
    "from rdkit.Chem import AllChem\n",
    "\n",
    "import numpy as np\n",
    "import plotly.graph_objects as go"
   ]
  },
  {
   "cell_type": "code",
   "execution_count": null,
   "metadata": {},
   "outputs": [],
   "source": [
    "# Example .dx file:\n",
    "dx_file = 'examples/mobley_7754849_conf0_guv.O.1.dx'\n",
    "\n",
    "# Read .dx file:\n",
    "guv_3D = rg.Grid3D.FromDxFile(dx_file)"
   ]
  },
  {
   "cell_type": "markdown",
   "metadata": {},
   "source": [
    "## 2D plots"
   ]
  },
  {
   "cell_type": "code",
   "execution_count": null,
   "metadata": {},
   "outputs": [],
   "source": [
    "# Plot 2D slice at x = 34:\n",
    "guv_3D.slice('x', 34).plt(vmax=6)"
   ]
  },
  {
   "cell_type": "markdown",
   "metadata": {},
   "source": [
    "## 3D Plots\n",
    "\n",
    "For 3D plots, the 2D surfaces for each plane can be plotted on 3D axes alongside the molecular structure.\n",
    "\n",
    "#### Read molecular structure\n",
    "\n",
    "The molecular structure is read and processed using RDKit."
   ]
  },
  {
   "cell_type": "code",
   "execution_count": null,
   "metadata": {},
   "outputs": [],
   "source": [
    "pdb_file = 'examples/mobley_7754849_conf0.pdb'\n",
    "\n",
    "mol = AllChem.MolFromPDBFile(pdb_file, removeHs=False)\n",
    "display(mol)"
   ]
  },
  {
   "cell_type": "code",
   "execution_count": null,
   "metadata": {},
   "outputs": [],
   "source": [
    "# Process molecular structure:\n",
    "\n",
    "# Set colours and relative sizes for different atoms:\n",
    "atom_colours = {'C'  : 'cyan', \n",
    "                'H'  : 'white',\n",
    "                'O'  : 'red',\n",
    "                'N'  : 'blue',\n",
    "                'P'  : 'gold',\n",
    "                'S'  : 'yellow',\n",
    "                'Cl' : 'green'}\n",
    "atom_sizes = {'C'  : 4, \n",
    "              'H'  : 2,\n",
    "              'O'  : 4,\n",
    "              'N'  : 4,\n",
    "              'P'  : 5,\n",
    "              'S'  : 5,\n",
    "              'Cl' : 5}\n",
    "\n",
    "# Get atom coordinates:\n",
    "atom_coords = mol.GetConformers()[0].GetPositions()\n",
    "\n",
    "# Save coordinates by atom type:\n",
    "atomtype_coords = {}\n",
    "for i, atom in enumerate(mol.GetAtoms()):\n",
    "    atomtype = atom.GetSymbol()\n",
    "    if atomtype not in atomtype_coords:\n",
    "        atomtype_coords[atomtype] = []\n",
    "    atomtype_coords[atomtype] += [atom_coords[i]]\n",
    "\n",
    "# Add atoms as points on a 3D scatter plot:\n",
    "# Might be better to use shapes so that sizes are constant\n",
    "# and don't change when you zoom in and out of the plot:\n",
    "atoms = []\n",
    "for atomtype in atomtype_coords.keys():\n",
    "    ac = np.array(atomtype_coords[atomtype])\n",
    "    atoms += [go.Scatter3d(\n",
    "        x=ac[:,0],\n",
    "        y=ac[:,1],\n",
    "        z=ac[:,2],\n",
    "        mode='markers',\n",
    "        marker=dict(size=atom_sizes[atomtype],color=atom_colours[atomtype]),\n",
    "        text=atomtype,\n",
    "        name=atomtype,\n",
    "        hoverinfo='text'\n",
    "        )]\n",
    "\n",
    "# Read bonds:\n",
    "bonds = []\n",
    "for bond_i in mol.GetBonds():\n",
    "    bond0 = bond_i.GetBeginAtomIdx()\n",
    "    bond1 = bond_i.GetEndAtomIdx()\n",
    "    \n",
    "    # Add bonds as line in 3D scatter plot:\n",
    "    bonds += [go.Scatter3d(\n",
    "        x=atom_coords[[bond0, bond1],0],\n",
    "        y=atom_coords[[bond0, bond1],1],\n",
    "        z=atom_coords[[bond0, bond1],2],\n",
    "        mode = 'lines',\n",
    "        line=dict(width=3,color='orange'), # grey\n",
    "        #marker=dict(size=5,color='red'),\n",
    "        #text='Bond',\n",
    "        name = 'Bond',\n",
    "        #hoverinfo='text'\n",
    "        )]"
   ]
  },
  {
   "cell_type": "markdown",
   "metadata": {},
   "source": [
    "#### Functions for 3D plots\n",
    "\n",
    "The 3D plots are made using plotly."
   ]
  },
  {
   "cell_type": "code",
   "execution_count": null,
   "metadata": {},
   "outputs": [],
   "source": [
    "# Plot the RISM surface:\n",
    "def get_slice(x, y, z, surfacecolor, opacity=0.6):\n",
    "    return go.Surface(x=x,\n",
    "                      y=y,\n",
    "                      z=z,\n",
    "                      surfacecolor=surfacecolor,\n",
    "                      opacity=opacity,\n",
    "                      coloraxis='coloraxis')\n",
    "\n",
    "# Get colour limits for a slice:\n",
    "def get_colour_lims(surfacecolor):\n",
    "    return np.min(surfacecolor), np.max(surfacecolor)\n",
    "\n",
    "# Get RISM surface:\n",
    "# The surface will be the x_i-y_i plane with z_i as the surface normal, so different surfaces can\n",
    "# be generated by passing different indices to x_i, y_i, z_i, e.g. 0, 1, 2 will be the xy plane\n",
    "# slice_d is the level that the slice cuts the axis normal to the slice, in grid points\n",
    "def defsurf(rism_3D_grid, x_i, y_i, z_i, slice_d, plot_at_edge=False, opacity=1):\n",
    "    \n",
    "    # Set up a grid for the surface:\n",
    "    i = np.linspace(rism_3D_grid.origin[x_i], \n",
    "                    rism_3D_grid.origin[x_i] + rism_3D_grid.gridsize[x_i]*rism_3D_grid.gridstep[x_i], \n",
    "                    rism_3D_grid.gridsize[x_i])\n",
    "    j = np.linspace(rism_3D_grid.origin[y_i], \n",
    "                    rism_3D_grid.origin[y_i] + rism_3D_grid.gridsize[y_i]*rism_3D_grid.gridstep[y_i], \n",
    "                    rism_3D_grid.gridsize[y_i])\n",
    "    i, j = np.meshgrid(i, j)\n",
    "\n",
    "    # Get coordinates for axis perpendicular to surface:\n",
    "    if plot_at_edge:\n",
    "        k = np.ones(i.shape)*rism_3D_grid.origin[z_i]\n",
    "    else:\n",
    "        k = np.ones(i.shape)*(rism_3D_grid.origin[z_i] + (slice_d*rism_3D_grid.gridstep[z_i]))\n",
    "\n",
    "    # Convert index z_i into axis label and get RISM values for the surface:\n",
    "    cut_ax = {0 : 'x', 1 : 'y', 2 : 'z'}\n",
    "    rism_vals = rism_3D_grid.slice(cut_ax[z_i], slice_d).grid\n",
    "\n",
    "    sminz, smaxz = get_colour_lims(rism_vals)\n",
    "\n",
    "    # Convert i, j, k coordinates back into x, y, z:\n",
    "    coords = [i, j, k]\n",
    "    co = np.argsort([x_i, y_i, z_i])\n",
    "    \n",
    "    slice_z = get_slice(coords[co[0]], coords[co[1]], coords[co[2]], rism_vals, opacity=opacity)\n",
    "\n",
    "    return slice_z, sminz, smaxz"
   ]
  },
  {
   "cell_type": "markdown",
   "metadata": {},
   "source": [
    "#### Plot figure with RISM surfaces as \"shadows\""
   ]
  },
  {
   "cell_type": "code",
   "execution_count": null,
   "metadata": {},
   "outputs": [],
   "source": [
    "# Get slices through the middle of the RISM box parallel to each plane\n",
    "# and then plot these at the edge of the plot:\n",
    "slice_x, vminx, vmaxx = defsurf(guv_3D, 2, 1, 0, guv_3D.gridsize[0]//2, plot_at_edge=True)\n",
    "slice_y, vminy, vmaxy = defsurf(guv_3D, 0, 2, 1, guv_3D.gridsize[1]//2, plot_at_edge=True)\n",
    "slice_z, vminz, vmaxz = defsurf(guv_3D, 1, 0, 2, guv_3D.gridsize[2]//2, plot_at_edge=True)\n",
    "\n",
    "# Set minimum and maximum values for the colour bar:\n",
    "vmin = min([vminx, vminy, vminz])\n",
    "vmax = max([vmaxx, vmaxy, vmaxz])\n",
    "# As with 2D heatmaps, setting vmax lower than the maximum to\n",
    "# truncate the colourbar range can make smaller fluctuations \n",
    "# more clearly visible:\n",
    "vmax=4\n",
    "\n",
    "# Plot figure:\n",
    "fig1 = go.Figure(data=[slice_x, slice_y, slice_z] + atoms + bonds)\n",
    "fig1.update_layout(\n",
    "         title_text='RISM slices', \n",
    "         title_x=0.5,\n",
    "         width=700,\n",
    "         height=700,\n",
    "         showlegend=False,\n",
    "         #scene_zaxis_range=[0,30], \n",
    "         coloraxis=dict(colorscale='BrBG',\n",
    "                        colorbar_thickness=25,\n",
    "                        colorbar_len=0.75,\n",
    "                        cmin=vmin,\n",
    "                        cmax=vmax\n",
    "                       ))\n",
    "# fig1.show()"
   ]
  },
  {
   "cell_type": "markdown",
   "metadata": {},
   "source": [
    "This graph could also be combined with a molecule rendered in VMD."
   ]
  },
  {
   "cell_type": "code",
   "execution_count": null,
   "metadata": {},
   "outputs": [],
   "source": [
    "# With VMD figure:\n",
    "Image(filename = \"examples/3D_RISM_VMD_plot_modified.png\", width=300, height=300)"
   ]
  },
  {
   "cell_type": "markdown",
   "metadata": {},
   "source": [
    "#### Plot figure with RISM surfaces at midplanes through box\n",
    "\n",
    "To see how the surfaces fit around the molecule they can also be plotted at the correct point in the 3D plot."
   ]
  },
  {
   "cell_type": "code",
   "execution_count": null,
   "metadata": {},
   "outputs": [],
   "source": [
    "# Get slices through the middle of the RISM box parallel to each plane\n",
    "# and then plot these at the box midplanes:\n",
    "slice_x, vminx, vmaxx = defsurf(guv_3D, 2, 1, 0, guv_3D.gridsize[0]//2, opacity=0.6)\n",
    "slice_y, vminy, vmaxy = defsurf(guv_3D, 0, 2, 1, guv_3D.gridsize[1]//2, opacity=0.6)\n",
    "slice_z, vminz, vmaxz = defsurf(guv_3D, 1, 0, 2, guv_3D.gridsize[2]//2, opacity=0.6)\n",
    "\n",
    "vmin = min([vminx, vminy, vminz])\n",
    "vmax = max([vmaxx, vmaxy, vmaxz])\n",
    "vmax=4\n",
    "\n",
    "fig1 = go.Figure(data=[slice_x, slice_y, slice_z] + atoms + bonds)\n",
    "fig1.update_layout(\n",
    "         title_text='RISM slices', \n",
    "         title_x=0.5,\n",
    "         width=700,\n",
    "         height=700,\n",
    "         showlegend=False,\n",
    "         #scene_zaxis_range=[0,30], \n",
    "         coloraxis=dict(colorscale='BrBG',\n",
    "                        colorbar_thickness=25,\n",
    "                        colorbar_len=0.75,\n",
    "                        cmin=vmin,\n",
    "                        cmax=vmax))\n",
    "# #fig1.show()"
   ]
  },
  {
   "cell_type": "markdown",
   "metadata": {},
   "source": [
    "## Interactive plots"
   ]
  },
  {
   "cell_type": "markdown",
   "metadata": {},
   "source": [
    "Add a slider to the 3D plots to pull the RISM surface over the molecule."
   ]
  },
  {
   "cell_type": "code",
   "execution_count": null,
   "metadata": {
    "scrolled": false
   },
   "outputs": [],
   "source": [
    "# Add sliders:\n",
    "# https://plotly.com/python/sliders/\n",
    "\n",
    "coord_idxs = {'x' : 0, 'y' : 1, 'z' : 2}\n",
    "\n",
    "# Function for producing interactive plot:\n",
    "def slider_fig(slice_idxs, norm, step_int=1, vmax=None):\n",
    "\n",
    "    # Set up figure with molecular structure plotted, could also add \n",
    "    # non-interactive slices:\n",
    "    fig1 = go.Figure(data=bonds + atoms) # + [slice_z])\n",
    "\n",
    "    # Number of traces on the figure used to represent the non-interactive \n",
    "    # part of the plot (e.g. molecular structure, any non-interactive slices)\n",
    "    # to ensure these are not changed by the slider:\n",
    "    n_mol_traces = len(fig1.data)\n",
    "\n",
    "    # Set initial values for the min and max for the colour bar:\n",
    "    vmin = 10\n",
    "    vmax_tmp = 0\n",
    "\n",
    "    # Tried to get multiple sliders on same plot, but doesn't work:\n",
    "    #for [slice_idxs, norm] in , y_i, z_i in [slice_idcs]: # [2, 1, 0], [2, 0, 1], [1, 0, 2]]:\n",
    "    \n",
    "    # Get all slices and add them to the graph:\n",
    "    x_i, y_i, z_i = slice_idxs\n",
    "    for slice_d in range(0, guv_3D.gridsize[coord_idxs[norm]], step_int):\n",
    "        #slice_x, vminx, vmaxx = defsurf(guv_3D, 2, 1, 0, slice_d)\n",
    "        slice_x, vminx, vmaxx = defsurf(guv_3D, x_i, y_i, z_i, slice_d, opacity=0.6)\n",
    "        vmin = min([vmin, vminx])\n",
    "        vmax_tmp = max([vmax_tmp, vmaxx])\n",
    "        # Add each slice to the figure:\n",
    "        fig1.add_trace(slice_x)\n",
    "\n",
    "    # Take vmax calculated from slices if vmax not given to function:\n",
    "    if vmax is None:\n",
    "        vmax = vmax_tmp\n",
    "\n",
    "    # Make all slices controlled by the slider invisible initially:\n",
    "        # Should this be + 1?\n",
    "    for d in fig1.data[n_mol_traces + 1:]:\n",
    "        d.visible = False\n",
    "\n",
    "    # In each step, set all slices to invisible, then make one visible:\n",
    "    steps = []\n",
    "    for i in range(len(fig1.data) - n_mol_traces):\n",
    "        step = dict(\n",
    "            method=\"update\",\n",
    "            args=[{\"visible\": [True]*n_mol_traces + [False] * (len(fig1.data) - n_mol_traces)},\n",
    "                  # Use HTML <br> for new line in title:\n",
    "                  {\"title\": \"Interactive plot of RISM slice perpendicular to \"+norm+\"<br>\"\\\n",
    "                            \"Showing slice: \" + str(i*step_int)}],  # layout attribute\n",
    "        )\n",
    "        # Make ith trace visible:\n",
    "        step[\"args\"][0][\"visible\"][i + n_mol_traces] = True\n",
    "        steps.append(step)\n",
    "\n",
    "    # Set up the slider, tried to add multiple sliders to list, but doesn't work:\n",
    "    sliders = [dict(\n",
    "        active=0,\n",
    "        currentvalue={\"prefix\": norm+\" slice: \"},\n",
    "        #pad={\"t\": 50},\n",
    "        steps=steps\n",
    "    )]\n",
    "\n",
    "    # Add sliders to the figure:\n",
    "    fig1.update_layout(\n",
    "             title_text=\"Interactive plot of RISM slice perpendicular to \"+norm+\"<br>\"\\\n",
    "                        \"Showing slice: 0\",\n",
    "             title_x=0.5,\n",
    "             width=700,\n",
    "             height=700,\n",
    "             showlegend=False,\n",
    "             # Have to give axis ranges to keep plot size constant when slider moves,\n",
    "             # make ranges slightly larger than RISM box:\n",
    "             scene_xaxis_range=[guv_3D.origin[0] - guv_3D.gridstep[0] ,\n",
    "                                guv_3D.origin[0] + (guv_3D.gridsize[0] + 1)*guv_3D.gridstep[0]],\n",
    "             scene_yaxis_range=[guv_3D.origin[1] - guv_3D.gridstep[1],\n",
    "                                guv_3D.origin[1] + (guv_3D.gridsize[1] + 1)*guv_3D.gridstep[1]],\n",
    "             scene_zaxis_range=[guv_3D.origin[2] - guv_3D.gridstep[2],\n",
    "                                guv_3D.origin[2] + (guv_3D.gridsize[2] + 1)*guv_3D.gridstep[2]],\n",
    "#              scene_aspectmode='cube', #'data'\n",
    "             scene_aspectratio=dict(x=1, y=1, z=1),\n",
    "             coloraxis=dict(colorscale='BrBG',\n",
    "                            colorbar_thickness=25,\n",
    "                            colorbar_len=0.75,\n",
    "                            cmin=vmin, \n",
    "                            cmax=vmax),\n",
    "             sliders=sliders)\n",
    "    \n",
    "    fig1.write_html(\"interactive_fig_\"+norm+\".html\")\n",
    "    fig1.show()    "
   ]
  },
  {
   "cell_type": "code",
   "execution_count": null,
   "metadata": {
    "scrolled": false
   },
   "outputs": [],
   "source": [
    "# Show plots:\n",
    "\n",
    "# Plot separate graph for each surface (can't work out how to combine them):\n",
    "for slice_idxs, norm in [[[2, 1, 0], 'x'], [[0, 2, 1], 'y'], [[1, 0, 2], 'z']]: \n",
    "    slider_fig(slice_idxs, \n",
    "               norm, \n",
    "               # Step interval:\n",
    "               step_int=1, \n",
    "               # Truncate colour bar:\n",
    "               vmax=4)"
   ]
  }
 ],
 "metadata": {
  "kernelspec": {
   "display_name": "ml_models",
   "language": "python",
   "name": "ml_models"
  },
  "language_info": {
   "codemirror_mode": {
    "name": "ipython",
    "version": 3
   },
   "file_extension": ".py",
   "mimetype": "text/x-python",
   "name": "python",
   "nbconvert_exporter": "python",
   "pygments_lexer": "ipython3",
   "version": "3.6.10"
  }
 },
 "nbformat": 4,
 "nbformat_minor": 4
}
