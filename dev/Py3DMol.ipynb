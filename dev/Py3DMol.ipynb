{
 "cells": [
  {
   "cell_type": "code",
   "execution_count": 1,
   "metadata": {},
   "outputs": [
    {
     "ename": "ModuleNotFoundError",
     "evalue": "No module named 'dash_bio'",
     "output_type": "error",
     "traceback": [
      "\u001b[0;31m---------------------------------------------------------------------------\u001b[0m",
      "\u001b[0;31mModuleNotFoundError\u001b[0m                       Traceback (most recent call last)",
      "\u001b[0;32m<ipython-input-1-f0ddf9c88260>\u001b[0m in \u001b[0;36m<module>\u001b[0;34m\u001b[0m\n\u001b[1;32m      4\u001b[0m \u001b[0;34m\u001b[0m\u001b[0m\n\u001b[1;32m      5\u001b[0m \u001b[0;32mimport\u001b[0m \u001b[0mdash\u001b[0m\u001b[0;34m\u001b[0m\u001b[0;34m\u001b[0m\u001b[0m\n\u001b[0;32m----> 6\u001b[0;31m \u001b[0;32mimport\u001b[0m \u001b[0mdash_bio\u001b[0m \u001b[0;32mas\u001b[0m \u001b[0mdashbio\u001b[0m\u001b[0;34m\u001b[0m\u001b[0;34m\u001b[0m\u001b[0m\n\u001b[0m\u001b[1;32m      7\u001b[0m \u001b[0;32mimport\u001b[0m \u001b[0mdash_html_components\u001b[0m \u001b[0;32mas\u001b[0m \u001b[0mhtml\u001b[0m\u001b[0;34m\u001b[0m\u001b[0;34m\u001b[0m\u001b[0m\n\u001b[1;32m      8\u001b[0m \u001b[0;34m\u001b[0m\u001b[0m\n",
      "\u001b[0;31mModuleNotFoundError\u001b[0m: No module named 'dash_bio'"
     ]
    }
   ],
   "source": [
    "import json\n",
    "import six.moves.urllib.request as urlreq\n",
    "from six import PY3\n",
    "\n",
    "import dash\n",
    "import dash_bio as dashbio\n",
    "import dash_html_components as html\n",
    "\n",
    "\n",
    "external_stylesheets = ['https://codepen.io/chriddyp/pen/bWLwgP.css']\n",
    "\n",
    "app = dash.Dash(__name__, external_stylesheets=external_stylesheets)\n",
    "\n",
    "model_data = urlreq.urlopen(\n",
    "    'https://raw.githubusercontent.com/plotly/dash-bio-docs-files/master/' +\n",
    "    'mol3d/model_data.js'\n",
    ").read()\n",
    "styles_data = urlreq.urlopen(\n",
    "    'https://raw.githubusercontent.com/plotly/dash-bio-docs-files/master/' +\n",
    "    'mol3d/styles_data.js'\n",
    ").read()\n",
    "\n",
    "if PY3:\n",
    "    model_data = model_data.decode('utf-8')\n",
    "    styles_data = styles_data.decode('utf-8')\n",
    "\n",
    "model_data = json.loads(model_data)\n",
    "styles_data = json.loads(styles_data)\n",
    "\n",
    "app.layout = html.Div([\n",
    "    dashbio.Molecule3dViewer(\n",
    "        id='my-dashbio-molecule3d',\n",
    "        styles=styles_data,\n",
    "        modelData=model_data\n",
    "    ),\n",
    "    \"Selection data\",\n",
    "    html.Hr(),\n",
    "    html.Div(id='molecule3d-output')\n",
    "])\n",
    "\n",
    "\n",
    "@app.callback(\n",
    "    dash.dependencies.Output('molecule3d-output', 'children'),\n",
    "    [dash.dependencies.Input('my-dashbio-molecule3d', 'selectedAtomIds')]\n",
    ")\n",
    "def show_selected_atoms(atom_ids):\n",
    "    if atom_ids is None or len(atom_ids) == 0:\n",
    "        return 'No atom has been selected. Click somewhere on the molecular \\\n",
    "        structure to select an atom.'\n",
    "    return [html.Div([\n",
    "        html.Div('Element: {}'.format(model_data['atoms'][atm]['element'])),\n",
    "        html.Div('Chain: {}'.format(model_data['atoms'][atm]['chain'])),\n",
    "        html.Div('Residue name: {}'.format(model_data['atoms'][atm]['residue_name'])),\n",
    "        html.Br()\n",
    "    ]) for atm in atom_ids]\n",
    "\n",
    "\n",
    "if __name__ == '__main__':\n",
    "    app.run_server(debug=True)"
   ]
  },
  {
   "cell_type": "code",
   "execution_count": 2,
   "metadata": {},
   "outputs": [],
   "source": [
    "def drawit(m,p,confId=-1):\n",
    "        mb = Chem.MolToMolBlock(m,confId=confId)\n",
    "        p.removeAllModels()\n",
    "        p.addModel(mb,'sdf')\n",
    "        p.setStyle({'stick':{}})\n",
    "        p.setBackgroundColor('0xeeeeee')\n",
    "        p.zoomTo()\n",
    "        return p.show()"
   ]
  },
  {
   "cell_type": "code",
   "execution_count": 3,
   "metadata": {},
   "outputs": [
    {
     "name": "stderr",
     "output_type": "stream",
     "text": [
      "RDKit ERROR: [19:05:21] UFFTYPER: Unrecognized charge state for atom: 8\n"
     ]
    },
    {
     "data": {
      "application/vnd.jupyter.widget-view+json": {
       "model_id": "05647393640741c78d96e25f60b2b5fd",
       "version_major": 2,
       "version_minor": 0
      },
      "text/plain": [
       "interactive(children=(IntSlider(value=0, description='confId', max=9), Output()), _dom_classes=('widget-intera…"
      ]
     },
     "metadata": {},
     "output_type": "display_data"
    }
   ],
   "source": [
    "import py3Dmol\n",
    "from rdkit import Chem\n",
    "from rdkit.Chem import AllChem\n",
    "from ipywidgets import interact, interactive, fixed\n",
    "\n",
    "m = Chem.MolFromSmiles(r'COc1ccc2[nH]c([S@@+]([O-])Cc3ncc(C)c(OC)c3C)nc2c1') # esomeprazole\n",
    "m = Chem.AddHs(m)\n",
    "AllChem.EmbedMultipleConfs(m,numConfs=10,randomSeed=0xf00d,useExpTorsionAnglePrefs=True,\\\n",
    "                           useBasicKnowledge=True)\n",
    "    # align to one of the ring systems:\n",
    "AllChem.AlignMolConformers(m,m.GetSubstructMatch(Chem.MolFromSmarts('c1[nH]c2ccccc2n1')))\n",
    "\n",
    "    \n",
    "# now construct the view and interactive widget:\n",
    "p = py3Dmol.view(width=400,height=400)\n",
    "interact(drawit, m=fixed(m),p=fixed(p),confId=(0,m.GetNumConformers()-1));\n"
   ]
  },
  {
   "cell_type": "code",
   "execution_count": null,
   "metadata": {},
   "outputs": [],
   "source": []
  }
 ],
 "metadata": {
  "kernelspec": {
   "display_name": "Python 3",
   "language": "python",
   "name": "python3"
  },
  "language_info": {
   "codemirror_mode": {
    "name": "ipython",
    "version": 3
   },
   "file_extension": ".py",
   "mimetype": "text/x-python",
   "name": "python",
   "nbconvert_exporter": "python",
   "pygments_lexer": "ipython3",
   "version": "3.7.7"
  }
 },
 "nbformat": 4,
 "nbformat_minor": 4
}
